{
 "cells": [
  {
   "cell_type": "code",
   "execution_count": 44,
   "metadata": {
    "collapsed": true
   },
   "outputs": [],
   "source": [
    "import pandas as pd\n",
    "import numpy as np\n",
    "from keras.preprocessing.sequence import pad_sequences\n",
    "from keras.models import Model, Input\n",
    "from keras.layers import LSTM, Embedding, Dense, TimeDistributed, Dropout, Conv1D\n",
    "from keras.layers import Bidirectional, concatenate, SpatialDropout1D, GlobalMaxPooling1D"
   ]
  },
  {
   "cell_type": "code",
   "execution_count": 14,
   "metadata": {
    "collapsed": true
   },
   "outputs": [],
   "source": [
    "data = pd.read_csv(\"/home/cp/DataSet/GMB(Groningen Meaning Bank) corpus/ner_dataset.csv\", encoding=\"latin1\")\n",
    "data =data.fillna(method='ffill')\n"
   ]
  },
  {
   "cell_type": "code",
   "execution_count": 15,
   "metadata": {},
   "outputs": [
    {
     "data": {
      "text/html": [
       "<div>\n",
       "<style>\n",
       "    .dataframe thead tr:only-child th {\n",
       "        text-align: right;\n",
       "    }\n",
       "\n",
       "    .dataframe thead th {\n",
       "        text-align: left;\n",
       "    }\n",
       "\n",
       "    .dataframe tbody tr th {\n",
       "        vertical-align: top;\n",
       "    }\n",
       "</style>\n",
       "<table border=\"1\" class=\"dataframe\">\n",
       "  <thead>\n",
       "    <tr style=\"text-align: right;\">\n",
       "      <th></th>\n",
       "      <th>Sentence #</th>\n",
       "      <th>Word</th>\n",
       "      <th>POS</th>\n",
       "      <th>Tag</th>\n",
       "    </tr>\n",
       "  </thead>\n",
       "  <tbody>\n",
       "    <tr>\n",
       "      <th>1048565</th>\n",
       "      <td>Sentence: 47958</td>\n",
       "      <td>impact</td>\n",
       "      <td>NN</td>\n",
       "      <td>O</td>\n",
       "    </tr>\n",
       "    <tr>\n",
       "      <th>1048566</th>\n",
       "      <td>Sentence: 47958</td>\n",
       "      <td>.</td>\n",
       "      <td>.</td>\n",
       "      <td>O</td>\n",
       "    </tr>\n",
       "    <tr>\n",
       "      <th>1048567</th>\n",
       "      <td>Sentence: 47959</td>\n",
       "      <td>Indian</td>\n",
       "      <td>JJ</td>\n",
       "      <td>B-gpe</td>\n",
       "    </tr>\n",
       "    <tr>\n",
       "      <th>1048568</th>\n",
       "      <td>Sentence: 47959</td>\n",
       "      <td>forces</td>\n",
       "      <td>NNS</td>\n",
       "      <td>O</td>\n",
       "    </tr>\n",
       "    <tr>\n",
       "      <th>1048569</th>\n",
       "      <td>Sentence: 47959</td>\n",
       "      <td>said</td>\n",
       "      <td>VBD</td>\n",
       "      <td>O</td>\n",
       "    </tr>\n",
       "    <tr>\n",
       "      <th>1048570</th>\n",
       "      <td>Sentence: 47959</td>\n",
       "      <td>they</td>\n",
       "      <td>PRP</td>\n",
       "      <td>O</td>\n",
       "    </tr>\n",
       "    <tr>\n",
       "      <th>1048571</th>\n",
       "      <td>Sentence: 47959</td>\n",
       "      <td>responded</td>\n",
       "      <td>VBD</td>\n",
       "      <td>O</td>\n",
       "    </tr>\n",
       "    <tr>\n",
       "      <th>1048572</th>\n",
       "      <td>Sentence: 47959</td>\n",
       "      <td>to</td>\n",
       "      <td>TO</td>\n",
       "      <td>O</td>\n",
       "    </tr>\n",
       "    <tr>\n",
       "      <th>1048573</th>\n",
       "      <td>Sentence: 47959</td>\n",
       "      <td>the</td>\n",
       "      <td>DT</td>\n",
       "      <td>O</td>\n",
       "    </tr>\n",
       "    <tr>\n",
       "      <th>1048574</th>\n",
       "      <td>Sentence: 47959</td>\n",
       "      <td>attack</td>\n",
       "      <td>NN</td>\n",
       "      <td>O</td>\n",
       "    </tr>\n",
       "  </tbody>\n",
       "</table>\n",
       "</div>"
      ],
      "text/plain": [
       "              Sentence #       Word  POS    Tag\n",
       "1048565  Sentence: 47958     impact   NN      O\n",
       "1048566  Sentence: 47958          .    .      O\n",
       "1048567  Sentence: 47959     Indian   JJ  B-gpe\n",
       "1048568  Sentence: 47959     forces  NNS      O\n",
       "1048569  Sentence: 47959       said  VBD      O\n",
       "1048570  Sentence: 47959       they  PRP      O\n",
       "1048571  Sentence: 47959  responded  VBD      O\n",
       "1048572  Sentence: 47959         to   TO      O\n",
       "1048573  Sentence: 47959        the   DT      O\n",
       "1048574  Sentence: 47959     attack   NN      O"
      ]
     },
     "execution_count": 15,
     "metadata": {},
     "output_type": "execute_result"
    }
   ],
   "source": [
    "data.tail(10)"
   ]
  },
  {
   "cell_type": "code",
   "execution_count": 19,
   "metadata": {
    "collapsed": true
   },
   "outputs": [],
   "source": [
    "words = list(set(data[\"Word\"]))\n",
    "n_words = len(words)\n",
    "tags = list(set(data[\"Tag\"]))\n",
    "n_tags = len(tags)"
   ]
  },
  {
   "cell_type": "code",
   "execution_count": 28,
   "metadata": {
    "collapsed": true
   },
   "outputs": [],
   "source": [
    "class SentenceGetter(object):\n",
    "    \n",
    "    def __init__(self, data):\n",
    "        self.n_sent = 1\n",
    "        self.data = data\n",
    "\n",
    "        agg_func = lambda s: [(w, p, t) for w, p, t in zip(s[\"Word\"].values.tolist(),\n",
    "                                                           s[\"POS\"].values.tolist(),\n",
    "                                                           s[\"Tag\"].values.tolist())]\n",
    "        self.grouped = self.data.groupby(\"Sentence #\").apply(agg_func)\n",
    "        self.sentences = [s for s in self.grouped]\n",
    "    \n",
    "    def get_next(self):\n",
    "        try:\n",
    "            s = self.grouped[\"Sentence: {}\".format(self.n_sent)]\n",
    "            self.n_sent += 1\n",
    "            return s\n",
    "        except:\n",
    "            return None"
   ]
  },
  {
   "cell_type": "code",
   "execution_count": 31,
   "metadata": {},
   "outputs": [
    {
     "name": "stdout",
     "output_type": "stream",
     "text": [
      "[('Thousands', 'NNS', 'O'), ('of', 'IN', 'O'), ('demonstrators', 'NNS', 'O'), ('have', 'VBP', 'O'), ('marched', 'VBN', 'O'), ('through', 'IN', 'O'), ('London', 'NNP', 'B-geo'), ('to', 'TO', 'O'), ('protest', 'VB', 'O'), ('the', 'DT', 'O'), ('war', 'NN', 'O'), ('in', 'IN', 'O'), ('Iraq', 'NNP', 'B-geo'), ('and', 'CC', 'O'), ('demand', 'VB', 'O'), ('the', 'DT', 'O'), ('withdrawal', 'NN', 'O'), ('of', 'IN', 'O'), ('British', 'JJ', 'B-gpe'), ('troops', 'NNS', 'O'), ('from', 'IN', 'O'), ('that', 'DT', 'O'), ('country', 'NN', 'O'), ('.', '.', 'O')]\n"
     ]
    }
   ],
   "source": [
    "getter = SentenceGetter(data)\n",
    "sent = getter.get_next()\n",
    "print(sent)"
   ]
  },
  {
   "cell_type": "code",
   "execution_count": 33,
   "metadata": {},
   "outputs": [
    {
     "name": "stdout",
     "output_type": "stream",
     "text": [
      "[[('Thousands', 'NNS', 'O'), ('of', 'IN', 'O'), ('demonstrators', 'NNS', 'O'), ('have', 'VBP', 'O'), ('marched', 'VBN', 'O'), ('through', 'IN', 'O'), ('London', 'NNP', 'B-geo'), ('to', 'TO', 'O'), ('protest', 'VB', 'O'), ('the', 'DT', 'O'), ('war', 'NN', 'O'), ('in', 'IN', 'O'), ('Iraq', 'NNP', 'B-geo'), ('and', 'CC', 'O'), ('demand', 'VB', 'O'), ('the', 'DT', 'O'), ('withdrawal', 'NN', 'O'), ('of', 'IN', 'O'), ('British', 'JJ', 'B-gpe'), ('troops', 'NNS', 'O'), ('from', 'IN', 'O'), ('that', 'DT', 'O'), ('country', 'NN', 'O'), ('.', '.', 'O')], [('Iranian', 'JJ', 'B-gpe'), ('officials', 'NNS', 'O'), ('say', 'VBP', 'O'), ('they', 'PRP', 'O'), ('expect', 'VBP', 'O'), ('to', 'TO', 'O'), ('get', 'VB', 'O'), ('access', 'NN', 'O'), ('to', 'TO', 'O'), ('sealed', 'JJ', 'O'), ('sensitive', 'JJ', 'O'), ('parts', 'NNS', 'O'), ('of', 'IN', 'O'), ('the', 'DT', 'O'), ('plant', 'NN', 'O'), ('Wednesday', 'NNP', 'B-tim'), (',', ',', 'O'), ('after', 'IN', 'O'), ('an', 'DT', 'O'), ('IAEA', 'NNP', 'B-org'), ('surveillance', 'NN', 'O'), ('system', 'NN', 'O'), ('begins', 'VBZ', 'O'), ('functioning', 'VBG', 'O'), ('.', '.', 'O')], [('Helicopter', 'NN', 'O'), ('gunships', 'NNS', 'O'), ('Saturday', 'NNP', 'B-tim'), ('pounded', 'VBD', 'O'), ('militant', 'JJ', 'O'), ('hideouts', 'NNS', 'O'), ('in', 'IN', 'O'), ('the', 'DT', 'O'), ('Orakzai', 'NNP', 'B-geo'), ('tribal', 'JJ', 'O'), ('region', 'NN', 'O'), (',', ',', 'O'), ('where', 'WRB', 'O'), ('many', 'JJ', 'O'), ('Taliban', 'NNP', 'B-org'), ('militants', 'NNS', 'O'), ('are', 'VBP', 'O'), ('believed', 'VBN', 'O'), ('to', 'TO', 'O'), ('have', 'VB', 'O'), ('fled', 'VBN', 'O'), ('to', 'TO', 'O'), ('avoid', 'VB', 'O'), ('an', 'DT', 'O'), ('earlier', 'JJR', 'O'), ('military', 'JJ', 'O'), ('offensive', 'NN', 'O'), ('in', 'IN', 'O'), ('nearby', 'JJ', 'O'), ('South', 'NNP', 'B-geo'), ('Waziristan', 'NNP', 'I-geo'), ('.', '.', 'O')]]\n"
     ]
    }
   ],
   "source": [
    "sentences = getter.sentences\n",
    "print(sentences[:3])"
   ]
  },
  {
   "cell_type": "code",
   "execution_count": 34,
   "metadata": {
    "collapsed": true
   },
   "outputs": [],
   "source": [
    "max_len = 75\n",
    "max_len_char = 10"
   ]
  },
  {
   "cell_type": "code",
   "execution_count": 36,
   "metadata": {
    "collapsed": true
   },
   "outputs": [],
   "source": [
    "\n",
    "word2idx = {w: i + 2 for i, w in enumerate(words)}\n",
    "word2idx[\"UNK\"] = 1\n",
    "word2idx[\"PAD\"] = 0#这种方法很好是直接少了定义词典的过程！！！借鉴\n",
    "\n",
    "dx2word = {i: w for w, i in word2idx.items()}\n",
    "\n",
    "\n",
    "tag2idx = {t: i + 1 for i, t in enumerate(tags)}\n",
    "tag2idx[\"PAD\"] = 0 \n",
    "#对标签添加一个pad  所以在预测的时候 我们需要进行+1 多个预测类别\n",
    "idx2tag = {i: w for w, i in tag2idx.items()}"
   ]
  },
  {
   "cell_type": "code",
   "execution_count": 38,
   "metadata": {
    "collapsed": true
   },
   "outputs": [],
   "source": [
    "#获取句子的单词对应的id\n",
    "X_word = [[word2idx[w[0]] for w in s] for s in sentences]\n",
    "#将句子填充到最大长度\n",
    "X_word = pad_sequences(maxlen=max_len, sequences=X_word, value=word2idx[\"PAD\"], padding='post', truncating='post')"
   ]
  },
  {
   "cell_type": "code",
   "execution_count": 39,
   "metadata": {},
   "outputs": [
    {
     "name": "stdout",
     "output_type": "stream",
     "text": [
      "98\n"
     ]
    }
   ],
   "source": [
    "#获取字符集和 唯一的字符\n",
    "chars = set([w_i for w in words for w_i in w])\n",
    "n_chars = len(chars)\n",
    "print(n_chars)"
   ]
  },
  {
   "cell_type": "code",
   "execution_count": 40,
   "metadata": {
    "collapsed": true
   },
   "outputs": [],
   "source": [
    "char2idx = {c: i + 2 for i, c in enumerate(chars)}\n",
    "char2idx[\"UNK\"] = 1\n",
    "char2idx[\"PAD\"] = 0 #的单词和字符都添加了 unk 和pad标识 tag只是添加 pad!!"
   ]
  },
  {
   "cell_type": "code",
   "execution_count": 41,
   "metadata": {
    "collapsed": true
   },
   "outputs": [],
   "source": [
    "#对每个句子填充到相同长度对每个单词填充到相同长度\n",
    "X_char = []\n",
    "for sentence in sentences:\n",
    "    sent_seq = []\n",
    "    for i in range(max_len):\n",
    "        word_seq = []\n",
    "        for j in range(max_len_char):\n",
    "            try:\n",
    "                word_seq.append(char2idx.get(sentence[i][0][j]))\n",
    "            except:\n",
    "                word_seq.append(char2idx.get(\"PAD\"))\n",
    "        sent_seq.append(word_seq)\n",
    "    X_char.append(np.array(sent_seq))"
   ]
  },
  {
   "cell_type": "code",
   "execution_count": 64,
   "metadata": {},
   "outputs": [
    {
     "name": "stdout",
     "output_type": "stream",
     "text": [
      "[[ 5  5  5 ...  0  0  0]\n",
      " [11  5  5 ...  0  0  0]\n",
      " [ 5  5  2 ...  0  0  0]\n",
      " ...\n",
      " [ 5 14  5 ...  0  0  0]\n",
      " [ 5  5  5 ...  0  0  0]\n",
      " [ 5  1 10 ...  0  0  0]]\n"
     ]
    }
   ],
   "source": [
    "#对标签的操作\n",
    "y = [[tag2idx[w[2]] for w in s] for s in sentences]\n",
    "y = pad_sequences(maxlen=max_len, \n",
    "                  sequences=y, \n",
    "                  value=tag2idx[\"PAD\"], #对于填充的地方 补上pad id\n",
    "                  padding='post', \n",
    "                  truncating='post')\n",
    "print(y)#没有对y标签进行同——catagory所以后面的损失函数 是sparse_categorical_crossentropy"
   ]
  },
  {
   "cell_type": "code",
   "execution_count": 77,
   "metadata": {
    "collapsed": true
   },
   "outputs": [],
   "source": [
    "from sklearn.model_selection import train_test_split\n",
    "#分割数据 为训练集和测试集\n",
    "X_word_tr, X_word_te, y_tr, y_te = train_test_split(X_word, y, \n",
    "                                                    test_size=0.1, \n",
    "                                                    random_state=2018)\n",
    "X_char_tr, X_char_te, _,  _ = train_test_split(X_char, y, \n",
    "                                              test_size=0.1, \n",
    "                                              random_state=2018)\n"
   ]
  },
  {
   "cell_type": "code",
   "execution_count": 66,
   "metadata": {},
   "outputs": [
    {
     "name": "stdout",
     "output_type": "stream",
     "text": [
      "____________________________________________________________________________________________________\n",
      "Layer (type)                     Output Shape          Param #     Connected to                     \n",
      "====================================================================================================\n",
      "char_in (InputLayer)             (None, 75, 10)        0                                            \n",
      "____________________________________________________________________________________________________\n",
      "word_in (InputLayer)             (None, 75)            0                                            \n",
      "____________________________________________________________________________________________________\n",
      "emb_char (TimeDistributed)       (None, 75, 10, 10)    1000        char_in[0][0]                    \n",
      "____________________________________________________________________________________________________\n",
      "emb_word (Embedding)             (None, 75, 20)        703600      word_in[0][0]                    \n",
      "____________________________________________________________________________________________________\n",
      "char_lstm (TimeDistributed)      (None, 75, 20)        2480        emb_char[0][0]                   \n",
      "____________________________________________________________________________________________________\n",
      "concate (Concatenate)            (None, 75, 40)        0           emb_word[0][0]                   \n",
      "                                                                   char_lstm[0][0]                  \n",
      "____________________________________________________________________________________________________\n",
      "spatial_dropout1d_11 (SpatialDro (None, 75, 40)        0           concate[0][0]                    \n",
      "____________________________________________________________________________________________________\n",
      "main_lstm (Bidirectional)        (None, 75, 100)       36400       spatial_dropout1d_11[0][0]       \n",
      "____________________________________________________________________________________________________\n",
      "out (TimeDistributed)            (None, 75, 18)        1818        main_lstm[0][0]                  \n",
      "====================================================================================================\n",
      "Total params: 745,298\n",
      "Trainable params: 745,298\n",
      "Non-trainable params: 0\n",
      "____________________________________________________________________________________________________\n"
     ]
    }
   ],
   "source": [
    "# input and embedding for words\n",
    "word_in = Input(shape=(max_len,),name ='word_in')\n",
    "emb_word = Embedding(input_dim=n_words + 2, \n",
    "                     output_dim=20,\n",
    "                     input_length=max_len, \n",
    "                     mask_zero=True,\n",
    "                     name='emb_word')(word_in)\n",
    "\n",
    "# input and embeddings for characters\n",
    "char_in = Input(shape=(max_len, max_len_char,),name ='char_in')\n",
    "emb_char = TimeDistributed(Embedding(input_dim=n_chars + 2, \n",
    "                                     output_dim=10,\n",
    "                                     input_length=max_len_char, \n",
    "                                     mask_zero=True,\n",
    "                                    ),name ='emb_char')(char_in)\n",
    "# character LSTM to get word encodings by characters\n",
    "char_enc = TimeDistributed(LSTM(units=20, \n",
    "                                return_sequences=False,\n",
    "                                recurrent_dropout=0.5\n",
    "                                ),name ='char_lstm')(emb_char)\n",
    "#print(char_enc)\n",
    "#(?, 75, 10, 20) 当return_sequences=True 为false时候(?, 75, 20) \n",
    "#没有返回字符的序列长度\n",
    "# main LSTM\n",
    "x = concatenate([emb_word, char_enc],name ='concate')\n",
    "x = SpatialDropout1D(0.3)(x)\n",
    "main_lstm = Bidirectional(LSTM(units=50, return_sequences=True,\n",
    "                               recurrent_dropout=0.6\n",
    "                             ), name ='main_lstm')(x)\n",
    "out = TimeDistributed(Dense(n_tags + 1, activation=\"softmax\"),name ='out')(main_lstm)\n",
    "\n",
    "model = Model([word_in, char_in], out)\n",
    "model.summary()\n",
    "from keras.utils.vis_utils import plot_model\n",
    "plot_model(model,to_file = './LSTM_Char_Ner.png',show_shapes =True)"
   ]
  },
  {
   "cell_type": "code",
   "execution_count": 63,
   "metadata": {
    "collapsed": true
   },
   "outputs": [],
   "source": [
    "\n",
    "model.compile(optimizer=\"adam\", \n",
    "              loss=\"sparse_categorical_crossentropy\", \n",
    "              metrics=[\"acc\"])"
   ]
  },
  {
   "cell_type": "code",
   "execution_count": 65,
   "metadata": {},
   "outputs": [
    {
     "name": "stdout",
     "output_type": "stream",
     "text": [
      "Train on 38846 samples, validate on 4317 samples\n",
      "Epoch 1/8\n",
      "38846/38846 [==============================] - 199s - loss: 0.3885 - acc: 0.9045 - val_loss: 0.1609 - val_acc: 0.9541\n",
      "Epoch 2/8\n",
      "38846/38846 [==============================] - 198s - loss: 0.1417 - acc: 0.9594 - val_loss: 0.1223 - val_acc: 0.9636\n",
      "Epoch 3/8\n",
      "38846/38846 [==============================] - 198s - loss: 0.1104 - acc: 0.9680 - val_loss: 0.1113 - val_acc: 0.9670\n",
      "Epoch 4/8\n",
      "38846/38846 [==============================] - 193s - loss: 0.0961 - acc: 0.9714 - val_loss: 0.1057 - val_acc: 0.9681\n",
      "Epoch 5/8\n",
      "38846/38846 [==============================] - 192s - loss: 0.0874 - acc: 0.9734 - val_loss: 0.1042 - val_acc: 0.9691\n",
      "Epoch 6/8\n",
      "38846/38846 [==============================] - 192s - loss: 0.0820 - acc: 0.9746 - val_loss: 0.1027 - val_acc: 0.9693\n",
      "Epoch 7/8\n",
      "38846/38846 [==============================] - 193s - loss: 0.0775 - acc: 0.9757 - val_loss: 0.1025 - val_acc: 0.9692\n",
      "Epoch 8/8\n",
      "38846/38846 [==============================] - 200s - loss: 0.0739 - acc: 0.9767 - val_loss: 0.1010 - val_acc: 0.9699\n"
     ]
    }
   ],
   "source": [
    "history = model.fit([X_word_tr,\n",
    "                     np.array(X_char_tr).reshape((len(X_char_tr), max_len, max_len_char))],\n",
    "                    np.array(y_tr).reshape(len(y_tr), max_len, 1),\n",
    "                    batch_size=32, epochs=8, validation_split=0.1, verbose=1)"
   ]
  },
  {
   "cell_type": "code",
   "execution_count": 68,
   "metadata": {},
   "outputs": [
    {
     "data": {
      "image/png": "[encoded data removed]",
      "text/plain": [
       "<matplotlib.figure.Figure at 0x7f73a5720ba8>"
      ]
     },
     "metadata": {},
     "output_type": "display_data"
    }
   ],
   "source": [
    "dic= history.history\n",
    "loss = dic['loss']\n",
    "val_loss = dic['val_loss']\n",
    "epoch = range(1,len(loss)+1)\n",
    "import matplotlib.pyplot as plt\n",
    "\n",
    "\n",
    "plt.plot(epoch,loss,'b',label ='tain loss')\n",
    "plt.plot(epoch,val_loss,'r',label ='val loss')\n",
    "plt.title('train and val loss')\n",
    "plt.xlabel('epoch')\n",
    "plt.ylabel('loss')\n",
    "plt.legend()\n",
    "plt.show()\n",
    "\n",
    "\n"
   ]
  },
  {
   "cell_type": "code",
   "execution_count": 69,
   "metadata": {},
   "outputs": [
    {
     "data": {
      "image/png": "[encoded data removed]",
      "text/plain": [
       "<matplotlib.figure.Figure at 0x7f73999a0470>"
      ]
     },
     "metadata": {},
     "output_type": "display_data"
    }
   ],
   "source": [
    "loss = dic['acc']\n",
    "val_loss = dic['val_acc']\n",
    "plt.plot(epoch,loss,'b',label ='tain acc')\n",
    "plt.plot(epoch,val_loss,'r',label ='val acc')\n",
    "plt.title('train and val acc')\n",
    "plt.xlabel('epoch')\n",
    "plt.ylabel('acc')\n",
    "plt.legend()\n",
    "plt.show()"
   ]
  },
  {
   "cell_type": "code",
   "execution_count": null,
   "metadata": {
    "collapsed": true
   },
   "outputs": [],
   "source": []
  }
 ],
 "metadata": {
  "kernelspec": {
   "display_name": "Python 3",
   "language": "python",
   "name": "python3"
  },
  "language_info": {
   "codemirror_mode": {
    "name": "ipython",
    "version": 3
   },
   "file_extension": ".py",
   "mimetype": "text/x-python",
   "name": "python",
   "nbconvert_exporter": "python",
   "pygments_lexer": "ipython3",
   "version": "3.6.2"
  }
 },
 "nbformat": 4,
 "nbformat_minor": 2
}
